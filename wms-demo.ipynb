{
 "cells": [
  {
   "cell_type": "markdown",
   "metadata": {},
   "source": [
    "# 库存管理\n",
    "\n",
    "## ODOO调用xml-rpc\n"
   ]
  },
  {
   "cell_type": "code",
   "execution_count": null,
   "metadata": {},
   "outputs": [],
   "source": [
    "url = \"http://39.105.154.26:8069\"\n",
    "db = \"wms\"\n",
    "username = 'api@dellege.com'\n",
    "password = \"api\""
   ]
  },
  {
   "cell_type": "markdown",
   "metadata": {},
   "source": [
    "连接，普通操作，无需登录"
   ]
  },
  {
   "cell_type": "code",
   "execution_count": null,
   "metadata": {},
   "outputs": [],
   "source": [
    "import xmlrpc.client\n",
    "common = xmlrpc.client.ServerProxy('{}/xmlrpc/2/common'.format(url))"
   ]
  },
  {
   "cell_type": "markdown",
   "metadata": {},
   "source": [
    "登录服务器，获取user id"
   ]
  },
  {
   "cell_type": "code",
   "execution_count": null,
   "metadata": {},
   "outputs": [],
   "source": [
    "uid = common.authenticate(db, username, password, {})"
   ]
  },
  {
   "cell_type": "code",
   "execution_count": null,
   "metadata": {},
   "outputs": [],
   "source": [
    "models = xmlrpc.client.ServerProxy('{}/xmlrpc/2/object'.format(url))"
   ]
  },
  {
   "cell_type": "markdown",
   "metadata": {},
   "source": [
    "## 库位设置\n",
    "<!-- 仓库库别分类项次\n",
    "库位码\n",
    "类别成品A库成品 B库成品C库原材料库\n",
    "库别码 -->\n",
    "刘总：\n",
    "按A1、B、…26个字母来标识每一排货架；与数字结合来按标识每一个库位；如:U12,表示第 U 排货架,第12格。\n",
    "\n",
    "* 成品A：标签成品、外购PE袋、气泡袋等\n",
    "* 成品B：说明书\n",
    "* 成品C：设备类 \n",
    "* 原材料：标签材料,铜版纸、PE 等\n",
    "\n",
    "修改：\n",
    "* 原有U12改为U-01-2。条码加前缀LOC-\n",
    "* U第U通道（通道号，横排），系统标记x\n",
    "* 01代表货架号（第01列，货架以列为单位），始终用二位数表示。系统标记y\n",
    "* 2代表第2层。系统标记z\n",
    "\n",
    "AGV：\n",
    "* 入库码头，条码 LOC-AGV-in  后面加序号\n",
    "* 出库码头，条码 LOC-AGV-out  "
   ]
  },
  {
   "cell_type": "markdown",
   "metadata": {},
   "source": [
    "## 创建库位"
   ]
  },
  {
   "cell_type": "code",
   "execution_count": null,
   "metadata": {},
   "outputs": [],
   "source": [
    "STOCK_LOCATION_TABLE='stock.location'\n",
    "\n",
    "def create_stock_location(name,barcode,usage=None,x=0,y=0,z=0):\n",
    "    count = models.execute_kw(db, uid, password,\n",
    "        STOCK_LOCATION_TABLE, 'search_count',\n",
    "        [[['name', '=', name]]])\n",
    "    if count == 0:\n",
    "        value = {'name': name,\n",
    "                 'posx': x,\n",
    "                 'posy': y,\n",
    "                 'posz': z,\n",
    "                 'barcode': barcode,\n",
    "                }\n",
    "        if usage is not None:\n",
    "            value['usage'] = usage\n",
    "        id = models.execute_kw(db, uid, password, \n",
    "                           STOCK_LOCATION_TABLE, 'create', \n",
    "                           [value])\n",
    "        return id\n",
    "    else:\n",
    "        return -1\n",
    "    "
   ]
  },
  {
   "cell_type": "markdown",
   "metadata": {},
   "source": [
    "程序所有货架的xyz维度是一致的。这往往不是实际情况。\n",
    "\n",
    "根据现场情况，进odoo界面删掉一些不存在的库位。\n",
    "\n",
    "初始化库位："
   ]
  },
  {
   "cell_type": "code",
   "execution_count": null,
   "metadata": {},
   "outputs": [],
   "source": [
    "def init_stock_locations(xlen=2,ylen=2,zlen=2):\n",
    "    for x in range(xlen):\n",
    "        for y in range(ylen):\n",
    "            for z in range(zlen):\n",
    "                name = '{}-{:02d}-{}'.format(chr(x+ord('A')),y+1,z+1)                \n",
    "                create_stock_location(name,'LOC-'+name, x+1,y+1,z+1)\n",
    "\n",
    "init_stock_locations(1,1,2)\n",
    "\n",
    "create_stock_location('AGV入库码头','LOC-AGV-in','transit')\n",
    "create_stock_location('AGV出库码头','LOC-AGV-out','transit')"
   ]
  },
  {
   "cell_type": "markdown",
   "metadata": {},
   "source": [
    "## 列出所有库位\n",
    "此API供前端显示所有库位。\n",
    "\n",
    "这里加一个限制，xyz都必须从下标1开始，中间编号不能中断。\n",
    "如果xyz为0，认为不是我们管理的（一些虚拟库位）。"
   ]
  },
  {
   "cell_type": "code",
   "execution_count": null,
   "metadata": {},
   "outputs": [],
   "source": [
    "def valid_locations_rules():\n",
    "    return [['usage', '=', 'internal'],\n",
    "        ['posx', '>', 0], ['posy', '>', 0], ['posz', '>', 0],\n",
    "        ['barcode', '!=', False]]\n",
    "\n",
    "def list_stock_locations():\n",
    "    where = valid_locations_rules()\n",
    "    select = {'fields': ['location_id', 'name', 'posx', 'posy', 'posz', 'barcode']}\n",
    "    return models.execute_kw(db, uid, password,\n",
    "                        STOCK_LOCATION_TABLE, 'search_read',\n",
    "                        [where], select)"
   ]
  },
  {
   "cell_type": "markdown",
   "metadata": {},
   "source": [
    "一般来说，一个通道以内的行列数应该是规整的；\n",
    "但是不同通道因为场地空间限制，有可能各通道不同。\n",
    "所以，返回值组织为列表，列表的元素是通道。\n",
    "通道为二维数组，数组的行列代表货架号和层号。\n",
    "数组的值为location_id，0代表库位无效。\n",
    "\n",
    "方法是判断一个通道内，yz的最小最大值，直接生成数组。"
   ]
  },
  {
   "cell_type": "code",
   "execution_count": null,
   "metadata": {},
   "outputs": [],
   "source": [
    "import numpy\n",
    "def get_locations_array():\n",
    "    inner = []\n",
    "    locations = list_stock_locations()\n",
    "    for l in locations:\n",
    "        x = l['posx'] - 1\n",
    "        y = l['posy'] - 1\n",
    "        z = l['posz'] - 1\n",
    "        if x > 100 or y > 30 or z > 16:\n",
    "            return 'unsupported range'\n",
    "        \n",
    "        for i in range(len(inner), x+1):\n",
    "            inner.append({'ymax': y, \n",
    "                          'zmax': z })\n",
    "            \n",
    "        if y > inner[x]['ymax']:\n",
    "            inner[x]['ymax'] = y\n",
    "        if z > inner[x]['zmax']:\n",
    "            inner[x]['zmax'] = z\n",
    "            \n",
    "    for i in inner:\n",
    "        i['locations'] = numpy.zeros((i['ymax']+1, i['zmax']+1), numpy.int)\n",
    "        \n",
    "    for l in locations:\n",
    "        x = l['posx'] - 1\n",
    "        y = l['posy'] - 1\n",
    "        z = l['posz'] - 1\n",
    "        inner[x]['locations'][y][z] = l['location_id']\n",
    "    return inner\n",
    "\n"
   ]
  },
  {
   "cell_type": "code",
   "execution_count": null,
   "metadata": {
    "tags": [
     "remove_cell"
    ]
   },
   "outputs": [],
   "source": [
    "get_locations_array()"
   ]
  },
  {
   "cell_type": "code",
   "execution_count": null,
   "metadata": {
    "tags": [
     "remove_cell"
    ]
   },
   "outputs": [],
   "source": [
    "# 异步进程在jupyter正常工作。单独启动服务器不需要\n",
    "import nest_asyncio\n",
    "nest_asyncio.apply()"
   ]
  },
  {
   "cell_type": "code",
   "execution_count": null,
   "metadata": {},
   "outputs": [],
   "source": [
    "from fastapi import FastAPI, Depends\n",
    "app = FastAPI()"
   ]
  },
  {
   "cell_type": "code",
   "execution_count": null,
   "metadata": {},
   "outputs": [],
   "source": [
    "@app.get(\"/stock_locations/\")\n",
    "def get_stock_locations_array():\n",
    "    return get_locations_array()"
   ]
  },
  {
   "cell_type": "markdown",
   "metadata": {},
   "source": [
    "## 库位是否为空\n",
    "查询某些库位是否为空。这个状态供前端显示之用。\n",
    "\n",
    "返回count记录数，每条记录代表该位置产品数量大于0。因此可以指代库位是否有产品。"
   ]
  },
  {
   "cell_type": "code",
   "execution_count": null,
   "metadata": {},
   "outputs": [],
   "source": [
    "STOCK_QUANTITY_TABLE = 'stock.quant'\n",
    "\n",
    "def compute_locations_is_empty(location_ids = []):\n",
    "    if len(location_ids) == 0:\n",
    "        for l in list_stock_locations():\n",
    "            location_ids.append(l['id'])\n",
    "\n",
    "    if len(location_ids) <= 0:\n",
    "        return\n",
    "    \n",
    "    where = [\n",
    "        ['location_id','in', location_ids],   # valid locations\n",
    "        ['qty','>',0]   # not empty\n",
    "    ]\n",
    "    select = ['location_id_count','location_id']\n",
    "    groupby = ['location_id']  \n",
    "    return models.execute_kw(db, uid, password,\n",
    "                        STOCK_QUANTITY_TABLE, 'read_group',\n",
    "                        [where, select, groupby], [])"
   ]
  },
  {
   "cell_type": "code",
   "execution_count": null,
   "metadata": {
    "tags": [
     "remove_cell"
    ]
   },
   "outputs": [],
   "source": [
    "compute_locations_is_empty()"
   ]
  },
  {
   "cell_type": "markdown",
   "metadata": {},
   "source": [
    "# 包裹管理\n",
    "以周转箱为基本单位。\n",
    "\n",
    "德立基目前创建800个周转箱。\n",
    "\n",
    "ODOO分为包裹类型和实例。\n",
    "类型就一种：周转箱，所以id是常数1. 类型的缩写BOX。\n",
    "实例自增编码，取五位数。"
   ]
  },
  {
   "cell_type": "code",
   "execution_count": null,
   "metadata": {},
   "outputs": [],
   "source": [
    "PACKAGE_TABLE='stock.quant.package'\n",
    "\n",
    "def create_package(name, typeid=1):\n",
    "    where = [['name', '=', name]]\n",
    "    count = models.execute_kw(db, uid, password,\n",
    "        PACKAGE_TABLE, 'search_count',\n",
    "        [where])\n",
    "    \n",
    "    if count == 0:\n",
    "        id = models.execute_kw(db, uid, password, \n",
    "                           PACKAGE_TABLE, 'create', \n",
    "                           [{'name': name,\n",
    "                             'packaging_id': typeid,\n",
    "                             'barcode': False,\n",
    "                            }])       \n",
    "        return id\n",
    "    else:\n",
    "        return -1\n",
    "    "
   ]
  },
  {
   "cell_type": "code",
   "execution_count": null,
   "metadata": {
    "tags": [
     "remove_cell"
    ]
   },
   "outputs": [],
   "source": [
    "def init_packages(count):\n",
    "    for i in range(count):\n",
    "        name = 'BOX{:05d}'.format(i+1) \n",
    "        create_package(name)\n",
    "        \n",
    "init_packages(8)"
   ]
  },
  {
   "cell_type": "markdown",
   "metadata": {},
   "source": [
    "## 包裹内产品修改"
   ]
  },
  {
   "cell_type": "markdown",
   "metadata": {},
   "source": [
    "# 出入库\n",
    "\n",
    "入库是指把周转箱用AGV搬入库位。\n",
    "入库过程：给嘉腾系统的数据库写入参数：箱子编号、库位编号；\n",
    "AGV自动来到码头，把箱子送到指定的位置。\n",
    "\n",
    "对于WMS系统，变化是：入库码头→AGV→库位\n",
    "\n",
    "在UI上显示入库和出库区。被搬运的周转箱用特殊颜色表示。\n",
    "\n",
    "## 入库队列\n",
    "入库的队列应放在WMS，我们建立一个虚拟的区域：入库码头。\n",
    "入库码头有传送带，传送带按照顺序把周转箱上到AGV。\n",
    "所以入库区有多个周转箱，根据传送带上面来考虑入库顺序，可以按照某个时间字段来orderby。\n",
    "\n",
    "AGV虚拟库位，为了数据库查询，所有库位名称都必须以AGV起头，odoo命名必须按照以下严格同名，否则数据库不能工作。\n",
    "* **AGV入库码头**：WMS设置\n",
    "* **AGV出库码头**：与入库同理\n",
    "* AGV：目前只有一个AGV，所以就一个编号\n",
    "\n",
    "实现查询出入库码头的接口：返回in out队列的周转箱列表，按顺序排列。\n",
    "1. 查询AGV出入库码头的location_id\n",
    "1. 分组查询STOCK_QUANTITY_TABLE表，该location_id下有哪些package记录\n",
    "1. 查询\n",
    "打包BOX来分组"
   ]
  },
  {
   "cell_type": "code",
   "execution_count": null,
   "metadata": {
    "tags": [
     "remove_cell"
    ]
   },
   "outputs": [],
   "source": [
    "# models.execute_kw(\n",
    "#     db, uid, password, STOCK_LOCATION_TABLE, 'fields_get',\n",
    "#     [], {'attributes': ['string', 'help', 'type']})"
   ]
  },
  {
   "cell_type": "code",
   "execution_count": null,
   "metadata": {},
   "outputs": [],
   "source": [
    "def get_agv_locations():\n",
    "    where = [['usage','=','transit'],['barcode','like','LOC-AGV-%']]\n",
    "    select = {'fields': ['location_id', 'name', 'barcode']}\n",
    "    return models.execute_kw(db, uid, password,\n",
    "                        STOCK_LOCATION_TABLE, 'search_read',\n",
    "                        [where], select)\n",
    "    \n",
    "def get_location_boxes(location_ids):\n",
    "    if isinstance(location_ids, int): \n",
    "        location_ids = [location_ids]\n",
    "#     location_ids = [68] #[a['id'] for a in agv]\n",
    "#     print(ids)    \n",
    "#     where = [['location_id','in', location_ids]]\n",
    "#     select = ['package_id_count', 'package_id']\n",
    "#     groupby = ['package_id']\n",
    "#     packs = models.execute_kw(db, uid, password,\n",
    "#                         STOCK_QUANTITY_TABLE, 'read_group',\n",
    "#                         [where, select, groupby], [])\n",
    "#     pack_ids = [p['package_id'][0] for p in packs]\n",
    "#     print(pack_ids)\n",
    "#     print(location_ids)\n",
    "    select = {'fields': ['location_id', 'name', 'package_id', 'in_date', 'qty'],\n",
    "              'order': 'in_date' }\n",
    "    where = [\n",
    "        ['location_id','in', location_ids], \n",
    "        ['package_id', '>=', 1],  # in the box\n",
    "        ['qty','>',0]   # not empty\n",
    "    ]    \n",
    "    return models.execute_kw(db, uid, password,\n",
    "                        STOCK_QUANTITY_TABLE, 'search_read',\n",
    "                        [where], select)\n",
    "#     print(products)\n",
    "#     pid = [p['package_id'][0] for p in products]\n",
    "#     print(pid)\n",
    "    \n",
    "agv=get_agv_locations()\n",
    "print(agv)\n",
    "ids = [a['id'] for a in agv]\n",
    "get_location_boxes(67)"
   ]
  },
  {
   "cell_type": "markdown",
   "metadata": {},
   "source": [
    "## 调拨\n",
    "WMS称为**调拨**，其实质是记录货物的每一次移动。\n",
    "* 找到一个空位置，源位置（AGV码头）到该空位增加一条预计调拨的记录。\n",
    "* AGV搬运到位后，该调拨设置为完成状态。\n",
    "* AGV如果搬运失败，调拨设置为取消状态。\n",
    "* 如果空位存在预调拨，我们也认为该位置不为空。\n",
    "\n",
    "### 空位查询\n",
    "根据调拨规则，空位是：没有产品，且没有预计调拨。\n",
    "\n",
    "目前选择空位的策略是随机选择空位，以便所有空位可以均衡使用。\n",
    "未来需要增加其他策略：库存区规则，例如PDA只能放在A-01货架。"
   ]
  },
  {
   "cell_type": "code",
   "execution_count": null,
   "metadata": {},
   "outputs": [],
   "source": [
    "def get_random_empty_location():\n",
    "    where = [\n",
    "        ['qty','>',0]   # not empty\n",
    "    ]\n",
    "    select = ['location_id']\n",
    "    groupby = ['location_id']  \n",
    "    not_empty = models.execute_kw(db, uid, password,\n",
    "                        STOCK_QUANTITY_TABLE, 'read_group',\n",
    "                        [where, select, groupby], [])\n",
    "    print(not_empty)\n",
    "    ids = [e['location_id'][0] for e in not_empty]\n",
    "    \n",
    "    print(ids)\n",
    "    \n",
    "#     not_empty = compute_locations_is_empty()\n",
    "#     ids = [e['location_id'][0] for e in not_empty]\n",
    "    \n",
    "#     print(ids)\n",
    "\n",
    "    select = {'fields': ['id', 'name'],\n",
    "             'limit': 20}\n",
    "    where = valid_locations_rules() \n",
    "    where.append(['id','not in', ids])\n",
    "#     print(where)\n",
    "    empty = models.execute_kw(db, uid, password,\n",
    "                        STOCK_LOCATION_TABLE, 'search_read',\n",
    "                        [where], select)\n",
    "    print(empty)\n",
    "    if len(empty) == 0:\n",
    "        return None\n",
    "    \n",
    "    from random import randrange\n",
    "    id = randrange(len(empty))\n",
    "    return empty[id]\n",
    "    \n",
    "get_random_empty_location()"
   ]
  },
  {
   "cell_type": "markdown",
   "metadata": {},
   "source": [
    "### 增加调拨\n",
    "\n",
    "### 入库完成"
   ]
  },
  {
   "cell_type": "code",
   "execution_count": null,
   "metadata": {},
   "outputs": [],
   "source": [
    "ids = models.execute_kw(db, uid, password,\n",
    "    'product.template', 'search',\n",
    "    [[]],\n",
    "    {'limit': 30})"
   ]
  },
  {
   "cell_type": "code",
   "execution_count": null,
   "metadata": {},
   "outputs": [],
   "source": [
    "[record] = models.execute_kw(db, uid, password,\n",
    "    'product.template', 'read', [ids])\n",
    "record"
   ]
  },
  {
   "cell_type": "code",
   "execution_count": null,
   "metadata": {},
   "outputs": [],
   "source": []
  }
 ],
 "metadata": {
  "kernelspec": {
   "display_name": "Python 3",
   "language": "python",
   "name": "python3"
  },
  "language_info": {
   "codemirror_mode": {
    "name": "ipython",
    "version": 3
   },
   "file_extension": ".py",
   "mimetype": "text/x-python",
   "name": "python",
   "nbconvert_exporter": "python",
   "pygments_lexer": "ipython3",
   "version": "3.7.0"
  }
 },
 "nbformat": 4,
 "nbformat_minor": 4
}
